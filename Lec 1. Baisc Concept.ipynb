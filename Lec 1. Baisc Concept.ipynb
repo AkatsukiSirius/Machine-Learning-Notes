{
 "cells": [
  {
   "cell_type": "markdown",
   "metadata": {},
   "source": [
    "# Lec 1. Baisc Concept"
   ]
  },
  {
   "cell_type": "markdown",
   "metadata": {},
   "source": [
    "# 0. Introduction "
   ]
  },
  {
   "cell_type": "markdown",
   "metadata": {},
   "source": [
    "Data mining: Application of machine learning methods to large database. A large volume of data is processed to construct a simple model with valuable use."
   ]
  },
  {
   "cell_type": "markdown",
   "metadata": {},
   "source": [
    "## 1. Feature Exraction/ Feature Engineering"
   ]
  },
  {
   "cell_type": "markdown",
   "metadata": {},
   "source": [
    "U $\\rightarrow$  X: X(u)"
   ]
  },
  {
   "cell_type": "markdown",
   "metadata": {},
   "source": [
    "|Feature Space|\n",
    "|--|\n",
    "|R |\n",
    "|G |\n",
    "|B |\n",
    "|(Weight) |"
   ]
  },
  {
   "cell_type": "markdown",
   "metadata": {},
   "source": [
    "#### Feature Vectors"
   ]
  },
  {
   "cell_type": "markdown",
   "metadata": {},
   "source": [
    "$\\rightarrow$ The set/space of all possible features"
   ]
  },
  {
   "cell_type": "markdown",
   "metadata": {},
   "source": [
    "## 2. Label"
   ]
  },
  {
   "cell_type": "markdown",
   "metadata": {},
   "source": [
    "$\\rightarrow$ Label(supervised learning): domain of the prediction;\n",
    "\n",
    "$\\rightarrow$ Label Space: {all possible labels}"
   ]
  },
  {
   "cell_type": "markdown",
   "metadata": {},
   "source": [
    "- If the set is finite the problem is Classification Problem.\n",
    "- If the label space only contains __2__ elements $\\Rightarrow$ __Binary Classification__. [0,1]\n",
    "- If the label space is a line $\\Rightarrow$ __Regression__."
   ]
  },
  {
   "cell_type": "markdown",
   "metadata": {},
   "source": [
    "Sample: $\\{x,\\space y\\}$;  $X\\space\\times\\space Y$; \n",
    "\n",
    "*x* $\\rightarrow$ feature: $R^{d}$\n",
    "\n",
    "*y* $\\rightarrow$ label: $R$"
   ]
  },
  {
   "cell_type": "markdown",
   "metadata": {},
   "source": [
    "## 3. Hypothesis"
   ]
  },
  {
   "cell_type": "markdown",
   "metadata": {},
   "source": [
    "$\\hookrightarrow$ A mapping function: $X_{feature}\\rightarrow \\space Y_{lable}$, for each sample;"
   ]
  },
  {
   "cell_type": "markdown",
   "metadata": {},
   "source": [
    "#### Example: \n",
    "Linear Regression\n",
    "\n",
    "$h(x)\\space = \\underbrace{w^{T}x}_{label:scalar\\space \\space R}$"
   ]
  },
  {
   "cell_type": "markdown",
   "metadata": {},
   "source": [
    "Hypothesis Space: Set of all your candidate hypothesis."
   ]
  },
  {
   "cell_type": "markdown",
   "metadata": {},
   "source": [
    "## 4. Loss Function"
   ]
  },
  {
   "cell_type": "markdown",
   "metadata": {},
   "source": [
    "### $\\hookrightarrow \\space L(h,\\underbrace{S_{i}}_{\\downarrow \\space\\{x_{i},y_{i}\\}})\\space = H \\times (X\\times Y) \\rightarrow R^{+}$ "
   ]
  },
  {
   "cell_type": "markdown",
   "metadata": {},
   "source": [
    "### Example: \n",
    "### $L(h,\\{x_{i},y_{i}\\})\\space=\\underbrace{[h(x_{i}\\space\\neq\\space y_{i})]^{1}}_{count\\space the\\space number\\space of\\space errors }$\n",
    "\n",
    "### $L(h,X_{i},Y_{i})\\space=\\space[h(x_{i})-y_{i}]^{2}$"
   ]
  },
  {
   "cell_type": "markdown",
   "metadata": {},
   "source": [
    "## 5. Empirical Risk: average loss across all the training samples"
   ]
  },
  {
   "cell_type": "markdown",
   "metadata": {},
   "source": [
    "$\\begin{equation} \n",
    "R(h,X,Y)\\space =\\space \\frac{1}{n}\\sum \\limits_{i=1}^{n}\\space L(h,S_{i})\n",
    "\\\\\n",
    "h\\in RM\\space = \\space arg\\min\\limits_{h\\in H}\\space R(h)\n",
    "\\end{equation} $"
   ]
  },
  {
   "cell_type": "markdown",
   "metadata": {},
   "source": [
    "where h is an Empirical Risk Minimizer, $h\\in H$*minimize the training set*"
   ]
  },
  {
   "cell_type": "code",
   "execution_count": null,
   "metadata": {
    "collapsed": true
   },
   "outputs": [],
   "source": []
  }
 ],
 "metadata": {
  "kernelspec": {
   "display_name": "Python 2",
   "language": "python",
   "name": "python2"
  },
  "language_info": {
   "codemirror_mode": {
    "name": "ipython",
    "version": 2
   },
   "file_extension": ".py",
   "mimetype": "text/x-python",
   "name": "python",
   "nbconvert_exporter": "python",
   "pygments_lexer": "ipython2",
   "version": "2.7.13"
  }
 },
 "nbformat": 4,
 "nbformat_minor": 0
}
