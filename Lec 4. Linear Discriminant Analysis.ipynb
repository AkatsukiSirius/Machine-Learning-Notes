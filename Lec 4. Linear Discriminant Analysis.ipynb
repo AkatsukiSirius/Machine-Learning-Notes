{
 "cells": [
  {
   "cell_type": "markdown",
   "metadata": {},
   "source": [
    "# 0. Intro"
   ]
  },
  {
   "cell_type": "markdown",
   "metadata": {},
   "source": [
    "## 0.1 Goal"
   ]
  },
  {
   "cell_type": "markdown",
   "metadata": {},
   "source": [
    "Find a __linear combination__ of __features__ that projects a dataset to a __lower-dimensonal__ space and __characterizes__ or __separates__ two or more __classes__ of objects or events.\n",
    "\n",
    "__Main idea__: Find projection to a line such that samples from different classes are well separated.\n",
    "\n",
    "- The resulting combination may be used as a:\n",
    "\n",
    "  1) Linear Classifier;\n",
    "\n",
    "  2) Dimensionality reduction;\n",
    "\n",
    "Boundaries of regions can be rough or smooth depending on prediction function."
   ]
  },
  {
   "cell_type": "markdown",
   "metadata": {},
   "source": [
    "## 0.2 Why LDA (Supervised)?"
   ]
  },
  {
   "cell_type": "markdown",
   "metadata": {},
   "source": [
    "There are several ways to find linear decision boundary.\n",
    "\n",
    "### 0.2.1 LDA vs Logistic Regression\n",
    "\n",
    "Why need __LDA__, not __Logistic Regression__.\n",
    "\n",
    "1) When classes are __well-seperated__, the parameter estimatess for __Logistic Regression__ model may be __unstable__;\n",
    "\n",
    "2) If __n__ is small and the __distribution__ of predictor __X__ is approximately normal in each of the classes __LDA__ is __more stable__;\n",
    "\n",
    "3) __More popular__ when we have __more than two__ response __classes__;"
   ]
  },
  {
   "cell_type": "markdown",
   "metadata": {},
   "source": [
    "### 0.2.2 LDA vs PCA\n",
    "\n",
    "__LDA__: Preserve as much of the class discriminatory information as possible."
   ]
  },
  {
   "cell_type": "markdown",
   "metadata": {},
   "source": [
    "## 0.3 Assumptions (Normality)"
   ]
  },
  {
   "cell_type": "markdown",
   "metadata": {},
   "source": [
    "- ### Normal distributed data,\n",
    "\n",
    "- ### Features that are statistically independent, and\n",
    "\n",
    "- ### Identical covariance matrices for every class"
   ]
  },
  {
   "cell_type": "markdown",
   "metadata": {},
   "source": [
    "# 1. LDA"
   ]
  },
  {
   "cell_type": "markdown",
   "metadata": {},
   "source": [
    "## 1.1 Input: Feature - Label pairs\n",
    "\n",
    "   ## $\\forall i,\\space \\chi = (x_i^t,\\underset{label}{y_i^t}) \\in R^d$; $ x\\in R^d, \\space X \\in R^{d\\times N}$\n",
    "\n",
    "   ## $\\text{The target dimension will be reduced to d'}$"
   ]
  },
  {
   "cell_type": "markdown",
   "metadata": {},
   "source": [
    "## 1.2 Output: \n",
    "   \n",
    "   ## $w\\in R^{d\\times d'}, \\text{ to do the dimensionality reduction}$\n",
    "\n",
    "   ## $w^Tx_i \\in R^{d'\\times 1}, \\text{to reconstruct: } ww^Tx_i \\in R^{d\\times 1}$\n",
    "   \n",
    "   ## $\\text{Only the feature } x_i\\in R^{d\\times 1}$"
   ]
  },
  {
   "cell_type": "markdown",
   "metadata": {},
   "source": [
    "## 1.3 Objective:\n",
    "\n",
    "We seek to obtain a scalar $w^TX$ by projecting the samples __X__ onto a line;\n",
    "\n",
    "Of all the possible lines we would like to select the one that __maximizes__ the __separability__ of the scalars\n",
    "\n",
    "- In order to find a good projection vector, we need to define a __measure__ of __separation__ between the projections."
   ]
  },
  {
   "cell_type": "markdown",
   "metadata": {},
   "source": [
    "## 1.4 Fisher’s linear Discriminant\n",
    "\n",
    "- ### Measure of Speration: \n",
    "\n",
    "1) __Mean__ of each class should be as __far__ as possible;\n",
    "\n",
    "2) In each class, the __variance__ should be as __small__ as possible;\n",
    "\n",
    "## $J(w) = \\frac{\\sum Distance_{mean}}{\\sum Var_{\\text{sample after projection}}}$"
   ]
  },
  {
   "cell_type": "markdown",
   "metadata": {},
   "source": [
    "# 2. LDA, Two Classes"
   ]
  },
  {
   "cell_type": "markdown",
   "metadata": {},
   "source": [
    "## 2.1 Problem\n",
    "\n",
    "## $X \\in \\{X^t,y^t\\}; \\space if\\space x^t\\in C_1,\\space r^t = 1,\\space if\\space x^t\\in C_2,\\space r^t = 0;$\n",
    "\n",
    "- ## $\\text{mean of $X \\in C_1$: } \\mu_1 \\in R^d$\n",
    "\n",
    "- ## $\\text{mean of $X \\in C_2$: } \\mu_2 \\in R^d$\n",
    "\n",
    "- ## $\\text{mean of $X \\in C_1$ after projection: } m_1 = \\frac{\\sum_t w^TX^tr^t}{\\sum_tr^t} \\in R$\n",
    "\n",
    "- ## $\\text{mean of $X \\in C_2$ after projection: } m_2 = \\frac{\\sum_t w^TX^tr^t}{\\sum_t(1-r^t)} \\in R$"
   ]
  },
  {
   "cell_type": "markdown",
   "metadata": {},
   "source": [
    "## 2.2 Scatter Matrix\n",
    "\n",
    "### 2.2.1 Between-Class Scatter Matrix\n",
    "\n",
    "- ## $(m_1-m_2)^2 = (w^T\\mu_1 - w^T\\mu_2)^2 = (w^T\\mu_1 - w^T\\mu_2)(w^T\\mu_1 - w^T\\mu_2)^T = w^T(\\mu_1-\\mu_2)(\\mu_1-\\mu_2)^Tw = w^TS_Bw$\n",
    "\n",
    "- ### $S_B$: Between-Class Scatter Matrix, symetric"
   ]
  },
  {
   "cell_type": "markdown",
   "metadata": {},
   "source": [
    "### 2.2.2 Within-Class Scatter Matrix\n",
    "\n",
    "- ### Scatter Matrix for Class One -> $S_1$\n",
    "\n",
    "  ## $s_1^2 = \\sum_t (w^Tx^t - m_1)^2r^t = \\sum_t (w^Tx^t - m_1)(w^Tx^t - m_1)^Tr^t \\\\\n",
    "  = \\sum_t (w^Tx^t - w^T\\mu_1)(w^Tx^t - w^T\\mu_1)^Tr^t = \\sum_t w^T(x^t - \\mu_1)(w^Tx^t - w^T\\mu_1)^Twr^t\\\\\n",
    "  = w^T[\\sum_t (x^t - \\mu_1)(x^t - T\\mu_1)^Tr^t]w\\\\\n",
    "  = w^TS_1w \\rightarrow S_1:\\text{ symetric} $\n",
    "\n",
    "- ### Scatter Matrix for Class Two -> $S_2$\n",
    "\n",
    "  ## $s_2^2 = \\sum_t (w^Tx^t - m_2)^2(1-r^t) = \\sum_t (w^Tx^t - w^T\\mu_2)(w^Tx^t - w^T\\mu_2)^T(1-r^t)\\\\\n",
    "  = \\sum_t w^T(x^t - \\mu_2)(x^t - \\mu_2)^Tw(1-r^t) = w^T[\\sum_t (x^t - \\mu_2)(x^t - \\mu_2)^T(1-r^t)]w\\\\\n",
    "  = w^TS_2w \\rightarrow S_2:\\text{ symetric} $\n",
    "  \n",
    "- ### With-Class Scatter Matrix -> $S_w$\n",
    "\n",
    "  ## $s_1^2 + s_2^2 = w^T(S_1+S_2)w = w^TS_Ww\\rightarrow\\text{ $S_W$: non-zero}$"
   ]
  },
  {
   "cell_type": "markdown",
   "metadata": {},
   "source": [
    "## 2.3 Fisher's Linear Discriminant\n",
    "\n",
    "## $J(w)=\\frac{(m_1-m_2)^2}{s_1^2+s_2^2}= \\frac{w^TS_Bw}{w^TS_Ww}$\n",
    "\n",
    "## $\\underset{x}{max}J(w)=\\underset{x}{max}\\frac{w^TS_Bw}{w^TS_Ww}$\n",
    "\n",
    "## $\\text{Let derivative of J(w) equals to zero}$"
   ]
  },
  {
   "cell_type": "markdown",
   "metadata": {},
   "source": [
    "## $\\Rightarrow\\frac{d}{dw}J(w) = \\frac{d}{dw}(\\frac{w^TS_Bw}{w^TS_Ww})=0 \\\\\n",
    "\\Rightarrow \\frac{1}{w^TS_Ww}\\frac{d}{dw}[w^T(m_1-m_2)]^2+[w^T(m_1-m_2)]^2\\frac{d}{dw}\\frac{1}{w^TS_Ww}=0\\\\\n",
    "\\Rightarrow \\frac{1}{w^TS_Ww}\\frac{d}{dw}[w^T(m_1-m_2)]^2 - [w^T(m_1-m_2)]^2\\frac{1}{(w^TS_Ww)^2}\\frac{d}{dw}(w^TS_Ww) = 0\\\\\n",
    "\\Rightarrow (w^TS_Ww)\\frac{d}{dw}[w^T(m_1-m_2)]^2-[w^T(m_1-m_2)]^2\\frac{d}{dw}(w^TS_Ww)=0\\\\\n",
    "\\Rightarrow (w^TS_Ww)\\frac{d}{dw}w^TS_Bw - (w^TS_Bw)\\frac{d}{dw}(w^TS_Ww)=0\\\\\n",
    "\\Rightarrow (w^TS_Ww)(S_B^T+S_B)w - (w^TS_Bw)(S_W^T+S_W)w =0 \\\\\n",
    "\\Rightarrow (w^TS_Ww)2S_Bw - (w^TS_Bw)2S_Ww = 0 \\\\\n",
    "\\Rightarrow (w^TS_Ww)S_Bw - (w^TS_Bw)S_Ww =0 \\rightarrow\\text{ deviding $w^TS_Ww$}\\\\\n",
    "\\Rightarrow S_Bw - \\frac{w^TS_Bw}{w^TS_Ww}S_Ww = 0 \\\\\n",
    "\\Rightarrow S_W^{-1}S_Bw - J(w)w = 0 \\rightarrow\\text{since J(w) is scalar} \\\\\n",
    "\\Rightarrow \\text{J(w) is the eigen value of $S_W^{-1}S_B$, and w is eigen vector} \n",
    "$"
   ]
  },
  {
   "cell_type": "markdown",
   "metadata": {},
   "source": [
    "### Now, solve the generalized eigenvalue problem\n",
    "\n",
    "### Note: $S_BX$ for any vector X, points in the same direction as $\\mu_1 - \\mu_2$\n",
    "\n",
    "### Proof:\n",
    "\n",
    "## $\\forall X,\\space S_BX = (\\mu_1-\\mu_2)[(\\mu_1-\\mu_2)^TX] \\\\\n",
    "\\text{treat $[(\\mu_1-\\mu_2)^TX]$ as an arbitrary vector $\\alpha$ }{\\Rightarrow}S_BX = (\\mu_1-\\mu_2)\\alpha\n",
    "$\n",
    "\n",
    "Q.E.D"
   ]
  },
  {
   "cell_type": "markdown",
   "metadata": {},
   "source": [
    "## $\\Rightarrow S_W^{-1}S_Bw = J(w)w$\n",
    "\n",
    "## $\\Rightarrow S_W^{-1}(\\mu_1-\\mu_2)\\alpha = J(w)w$\n",
    "\n",
    "## $\\Rightarrow w = S_W^{-1}(\\mu_1-\\mu_2)\\frac{\\alpha}{J(w)}$\n",
    "\n",
    "## $\\text{since we don't care about the magnitude of w}$\n",
    "\n",
    "## $\\Rightarrow w^* = S_W^{-1}(\\mu_1-\\mu_2)$"
   ]
  },
  {
   "cell_type": "markdown",
   "metadata": {},
   "source": [
    "## 2.4 Use Lagrangian to Solve LDA"
   ]
  },
  {
   "cell_type": "markdown",
   "metadata": {},
   "source": [
    "## $\\underset{w}{max}\\frac{w^TS_Bw}{w^TS_Ww}$\n",
    "\n",
    "## $\\Downarrow$\n",
    "\n",
    "## $\\underset{w}{max\\space}w^TS_Bw, \\space st,\\space w^TS_Ww=1\\text{, since we don't care about the magnitude of w}$ \n",
    "\n",
    "## $L(w,\\lambda)=w^TS_Bw-\\lambda(w^TS_Ww-1)\\text{, take derivative}$\n",
    "\n",
    "## $\\Rightarrow\\frac{\\partial}{\\partial w}L(w,\\lambda) = 2S_Bw-2\\lambda S_W w =0$\n",
    "\n",
    "## $\\Rightarrow S_Bw = \\lambda S_W w$\n",
    "\n",
    "## $\\text{since $S_W$ is semi-positive definite} \\Rightarrow\\text{$S_W$ is inversible;}$\n",
    "\n",
    "## $\\text{Define $S_W = S_W^{\\frac{1}{2}}S_W^{\\frac{1}{2}}$}$\n",
    "\n",
    "## $\\Rightarrow S_Bw = \\lambda S_W^{\\frac{1}{2}}S_W^{\\frac{1}{2}}w\\text{, let $u=S_W^{\\frac{1}{2}}w$}$\n",
    "\n",
    "## $\\Rightarrow S_Bw = \\lambda S_W^{\\frac{1}{2}}u$\n",
    "\n",
    "## $\\Rightarrow S_W^{-\\frac{1}{2}}S_Bw = \\lambda u$\n",
    "\n",
    "## $\\Rightarrow \\underset{\\text{sysmetric matrix}}{[S_W^{-\\frac{1}{2}}\\lambda S_W^{\\frac{1}{2}}]}u = \\lambda u$"
   ]
  },
  {
   "cell_type": "markdown",
   "metadata": {},
   "source": [
    "## $\\Rightarrow \\text{This problem is a regular eigenvalue problem for a symmetric, positive definite matrix;}$\n",
    "\n",
    "## $\\text{Remains to choose which eigenvalue and eigenvector corresponds to the desired solution;}$\n",
    "\n",
    "## $\\Rightarrow \\text{Find dual formulation}$\n",
    "\n",
    "## $L_{D} = \\underset{\\lambda}{inf}[L(w,\\lambda)]=\\underset{\\lambda}{inf}[w^TS_Bw-\\lambda(w^TS_Ww-1)]$\n",
    "\n",
    "## $L_{D} = \\underset{\\lambda}{inf}[w^TS_Bw-\\lambda w^TS_Ww + \\lambda]$\n",
    "\n",
    "## $L_{D} = \\underset{\\lambda}{inf}[w^T(S_Bw-\\lambda S_Ww) + \\lambda]$\n",
    "\n",
    "## $\\text{since when $S_Bw = \\lambda S_W w$, L is maximized}$\n",
    "\n",
    "## $\\Rightarrow L_{D} = \\underset{\\lambda}{inf} \\lambda\\text{, which means maximize $\\lambda$}$"
   ]
  },
  {
   "cell_type": "markdown",
   "metadata": {},
   "source": [
    "# 3. LDA for Multi Classes"
   ]
  },
  {
   "cell_type": "markdown",
   "metadata": {},
   "source": [
    "# 4. General Steps of LDA (5 Steps)"
   ]
  },
  {
   "cell_type": "markdown",
   "metadata": {},
   "source": [
    "## 1) Compute the d-dimensional mean vectors for different classes from the dataset;\n",
    "\n",
    "## 2) Compute the scatter matrices (between-class and within-class scatter matrix);\n",
    "\n",
    "## 3) Compute the __eigenvectors__ and corresponding eigenvalues for the scatter matrices;\n",
    "\n",
    "## 4) Sort the eigenvectors by decreasing eigenvalues and choose k eigenvectors with the largest eigenvalues to form a $d\\times k$ dimensional matrix (where each column represents an eigenvector);\n",
    "\n",
    "## 5) Use this $d\\times k$ eigenvector matrix to transform the samples onto the new subspace, $w^TX$."
   ]
  },
  {
   "cell_type": "markdown",
   "metadata": {},
   "source": [
    "# 5. Example: __[Iris Dataset](https://archive.ics.uci.edu/ml/datasets/Iris)__"
   ]
  },
  {
   "cell_type": "markdown",
   "metadata": {},
   "source": [
    "- ## The 3 classes in Iris:\n",
    "\n",
    "  ### 1) Iris-setosa (n=50)\n",
    "\n",
    "  ### 2) Iris-versicolor (n=50)\n",
    "  \n",
    "  ### 3) Iris-virginica (n=50)"
   ]
  },
  {
   "cell_type": "markdown",
   "metadata": {},
   "source": [
    "- ## The four features of the Iris dataset:\n",
    "\n",
    "     ### 1) sepal length in cm\n",
    "\n",
    "     ### 2) sepal width in cm\n",
    "\n",
    "     ### 3) petal length in cm\n",
    "\n",
    "     ### 4) petal width in cm"
   ]
  },
  {
   "cell_type": "markdown",
   "metadata": {},
   "source": [
    "## 5.1 Import Data"
   ]
  },
  {
   "cell_type": "code",
   "execution_count": 7,
   "metadata": {},
   "outputs": [],
   "source": [
    "import pandas as pd\n",
    "\n",
    "df1 = pd.read_csv('Iris.csv',header = None) # DataFrame"
   ]
  },
  {
   "cell_type": "code",
   "execution_count": 37,
   "metadata": {},
   "outputs": [],
   "source": [
    "df = pd.io.parsers.read_csv(filepath_or_buffer = 'https://archive.ics.uci.edu/ml/machine-learning-databases/iris/iris.data',\n",
    "                          header = None,\n",
    "                          sep = ',',) # DataFrame"
   ]
  },
  {
   "cell_type": "markdown",
   "metadata": {},
   "source": [
    "## 5.2 Define Features"
   ]
  },
  {
   "cell_type": "code",
   "execution_count": 38,
   "metadata": {},
   "outputs": [],
   "source": [
    "feature_dict = {i:label for i,label in zip(\n",
    "                range(4),\n",
    "                ( 'sepal length in cm',\n",
    "                 'sepal width in cm',\n",
    "                 'petal length in cm',\n",
    "                 'petal width in cm',\n",
    "                ))}"
   ]
  },
  {
   "cell_type": "code",
   "execution_count": 39,
   "metadata": {},
   "outputs": [
    {
     "data": {
      "text/html": [
       "<div>\n",
       "<style>\n",
       "    .dataframe thead tr:only-child th {\n",
       "        text-align: right;\n",
       "    }\n",
       "\n",
       "    .dataframe thead th {\n",
       "        text-align: left;\n",
       "    }\n",
       "\n",
       "    .dataframe tbody tr th {\n",
       "        vertical-align: top;\n",
       "    }\n",
       "</style>\n",
       "<table border=\"1\" class=\"dataframe\">\n",
       "  <thead>\n",
       "    <tr style=\"text-align: right;\">\n",
       "      <th></th>\n",
       "      <th>sepal length in cm</th>\n",
       "      <th>sepal width in cm</th>\n",
       "      <th>petal length in cm</th>\n",
       "      <th>petal width in cm</th>\n",
       "      <th>class label</th>\n",
       "    </tr>\n",
       "  </thead>\n",
       "  <tbody>\n",
       "    <tr>\n",
       "      <th>0</th>\n",
       "      <td>5.1</td>\n",
       "      <td>3.5</td>\n",
       "      <td>1.4</td>\n",
       "      <td>0.2</td>\n",
       "      <td>Iris-setosa</td>\n",
       "    </tr>\n",
       "    <tr>\n",
       "      <th>1</th>\n",
       "      <td>4.9</td>\n",
       "      <td>3.0</td>\n",
       "      <td>1.4</td>\n",
       "      <td>0.2</td>\n",
       "      <td>Iris-setosa</td>\n",
       "    </tr>\n",
       "    <tr>\n",
       "      <th>2</th>\n",
       "      <td>4.7</td>\n",
       "      <td>3.2</td>\n",
       "      <td>1.3</td>\n",
       "      <td>0.2</td>\n",
       "      <td>Iris-setosa</td>\n",
       "    </tr>\n",
       "    <tr>\n",
       "      <th>3</th>\n",
       "      <td>4.6</td>\n",
       "      <td>3.1</td>\n",
       "      <td>1.5</td>\n",
       "      <td>0.2</td>\n",
       "      <td>Iris-setosa</td>\n",
       "    </tr>\n",
       "    <tr>\n",
       "      <th>4</th>\n",
       "      <td>5.0</td>\n",
       "      <td>3.6</td>\n",
       "      <td>1.4</td>\n",
       "      <td>0.2</td>\n",
       "      <td>Iris-setosa</td>\n",
       "    </tr>\n",
       "  </tbody>\n",
       "</table>\n",
       "</div>"
      ],
      "text/plain": [
       "   sepal length in cm  sepal width in cm  petal length in cm  \\\n",
       "0                 5.1                3.5                 1.4   \n",
       "1                 4.9                3.0                 1.4   \n",
       "2                 4.7                3.2                 1.3   \n",
       "3                 4.6                3.1                 1.5   \n",
       "4                 5.0                3.6                 1.4   \n",
       "\n",
       "   petal width in cm  class label  \n",
       "0                0.2  Iris-setosa  \n",
       "1                0.2  Iris-setosa  \n",
       "2                0.2  Iris-setosa  \n",
       "3                0.2  Iris-setosa  \n",
       "4                0.2  Iris-setosa  "
      ]
     },
     "execution_count": 39,
     "metadata": {},
     "output_type": "execute_result"
    }
   ],
   "source": [
    "df.columns = [l for i,l in sorted(feature_dict.items())] + ['class label']\n",
    "df.dropna(how = 'all',inplace = True)\n",
    "df.head()"
   ]
  },
  {
   "cell_type": "markdown",
   "metadata": {},
   "source": [
    "## 5.3 Convert Label to Numeric Numbers"
   ]
  },
  {
   "cell_type": "code",
   "execution_count": 79,
   "metadata": {},
   "outputs": [],
   "source": [
    "from sklearn.preprocessing import LabelEncoder\n",
    "\n",
    "X = df.ix[:,0:4].values\n",
    "y = df['class label'].values\n",
    "\n",
    "enc = LabelEncoder()\n",
    "label_encoder = enc.fit(y)\n",
    "y = label_encoder.transform(y) + 1\n",
    "\n",
    "label_dict = {1:'Iris-setoa', 2: 'Iris-versicolor', 3: 'Iris-virginica'}"
   ]
  },
  {
   "cell_type": "markdown",
   "metadata": {},
   "source": [
    "## 5.4 Histograms and Feature Selection"
   ]
  },
  {
   "cell_type": "code",
   "execution_count": 61,
   "metadata": {},
   "outputs": [],
   "source": [
    "%matplotlib inline\n",
    "from matplotlib import pyplot as plt\n",
    "import numpy as np\n",
    "import math"
   ]
  },
  {
   "cell_type": "code",
   "execution_count": 62,
   "metadata": {},
   "outputs": [
    {
     "data": {
      "image/png": "[encoded data removed]",
      "text/plain": [
       "<matplotlib.figure.Figure at 0x1a1010d898>"
      ]
     },
     "metadata": {},
     "output_type": "display_data"
    }
   ],
   "source": [
    "fig, axes = plt.subplots(nrows = 2, ncols = 2, figsize = (12,6))"
   ]
  },
  {
   "cell_type": "markdown",
   "metadata": {},
   "source": [
    "## 5.5 LDA"
   ]
  },
  {
   "cell_type": "markdown",
   "metadata": {},
   "source": [
    "### 1) Step 1: Compute the d-dimensional mean vectors"
   ]
  },
  {
   "cell_type": "code",
   "execution_count": 85,
   "metadata": {},
   "outputs": [
    {
     "name": "stdout",
     "output_type": "stream",
     "text": [
      "Mean Vector class 1: [ 5.006  3.418  1.464  0.244]\n",
      "\n",
      "Mean Vector class 2: [ 5.936  2.77   4.26   1.326]\n",
      "\n",
      "Mean Vector class 3: [ 6.588  2.974  5.552  2.026]\n",
      "\n"
     ]
    }
   ],
   "source": [
    "np.set_printoptions(precision = 4) # Determine the way floating point numbers, arrays and other NumPy objects are displayed.\n",
    "\n",
    "mean_vectors = []\n",
    "for cl in range(1,4):\n",
    "    mean_vectors.append(np.mean(X[y==cl],axis = 0))\n",
    "    print('Mean Vector class %s: %s\\n' %(cl,mean_vectors[cl-1]))"
   ]
  },
  {
   "cell_type": "markdown",
   "metadata": {},
   "source": [
    "### 2) Step 2: Computing the Scatter Matrices\n",
    "\n",
    "- ### Within Class Scatter Matrix $S_W$\n",
    "\n",
    "## $S_W = \\sum_{i}^{c}S_i\\text{, i: class #}$\n",
    "\n",
    "## $\\text{where}$\n",
    "\n",
    "## $S_i = \\sum_{x\\in D_{i}}^{N}(x-\\mu_i)_{4\\times 150}(x-\\mu_i)^T_{150\\times 4} \\rightarrow\\text{scatter matrix for every class}$\n",
    "\n",
    "## $\\text{and $\\mu_i$ is the mean vector: } \\mu_i = \\frac{1}{N_i}\\sum_{x\\in D_i}^{N}x_k$"
   ]
  },
  {
   "cell_type": "code",
   "execution_count": 87,
   "metadata": {},
   "outputs": [
    {
     "name": "stdout",
     "output_type": "stream",
     "text": [
      "within-class Scatter Matrix:\n",
      " [[ 38.9562  13.683   24.614    5.6556]\n",
      " [ 13.683   17.035    8.12     4.9132]\n",
      " [ 24.614    8.12    27.22     6.2536]\n",
      " [  5.6556   4.9132   6.2536   6.1756]]\n"
     ]
    }
   ],
   "source": [
    "S_W = np.zeros((4,4))\n",
    "\n",
    "for cl, mv in zip(range(1,4),mean_vectors):\n",
    "    class_sc_mat = np.zeros((4,4))                 # Scatter matrix for every class\n",
    "    for row in X[y == cl]:\n",
    "        row, mv = row.reshape(4,1),mv.reshape(4,1) # Make column vectors\n",
    "        class_sc_mat += (row-mv).dot((row-mv).T)\n",
    "    S_W += class_sc_mat                            # Sum class scatter matrices\n",
    "print('within-class Scatter Matrix:\\n', S_W)"
   ]
  },
  {
   "cell_type": "markdown",
   "metadata": {},
   "source": [
    "- ### Between Class Scatter Matrix $S_B$\n",
    "\n",
    "## $S_B = \\sum_{i=1}^{c}N_i(\\mu_i -\\mu)(\\mu_i -\\mu)^T$\n",
    "\n",
    "## $\\text{where $\\mu$ is the overall mean, and $\\mu_i$ and $N_i$ are the sample mean and sizes of the repective classes.}$"
   ]
  },
  {
   "cell_type": "code",
   "execution_count": 97,
   "metadata": {},
   "outputs": [
    {
     "name": "stdout",
     "output_type": "stream",
     "text": [
      "Between Class Scatter Matrix:\n",
      " [[ 1.2642 -0.3907  3.3033  1.4273]\n",
      " [-0.3907  0.2196 -1.1211 -0.4498]\n",
      " [ 3.3033 -1.1211  8.7329  3.7382]\n",
      " [ 1.4273 -0.4498  3.7382  1.6121]]\n"
     ]
    }
   ],
   "source": [
    "overall_mean = np.mean(X, axis = 0)\n",
    "\n",
    "S_B = np.zeros((4,4))\n",
    "for i,mean_vec in enumerate(mean_vectors):\n",
    "    n = X[y==i+1,:].shape[0] # or n = len(X[y==3,:])\n",
    "    mean_vec = mean_vec.reshape(4,1) # make column vector\n",
    "    overall_mean = overall_mean.reshape(4,1) # make column vector\n",
    "    S_B += (mean_vec - overall_mean).dot((mean_vec - overall_mean).T)\n",
    "\n",
    "print ('Between Class Scatter Matrix:\\n', S_B)"
   ]
  },
  {
   "cell_type": "markdown",
   "metadata": {},
   "source": [
    "### 3) Step 3: Solving the generalized eigenvalue problem for the matrix $S_W^{-1}S_B$"
   ]
  },
  {
   "cell_type": "code",
   "execution_count": 100,
   "metadata": {},
   "outputs": [
    {
     "name": "stdout",
     "output_type": "stream",
     "text": [
      "\n",
      "Eigenvector 1: \n",
      "[[ 0.2049]\n",
      " [ 0.3871]\n",
      " [-0.5465]\n",
      " [-0.7138]]\n",
      "\n",
      "Eigenvector 1: 6.45e-01\n",
      "\n",
      "Eigenvector 2: \n",
      "[[-0.009 ]\n",
      " [-0.589 ]\n",
      " [ 0.2543]\n",
      " [-0.767 ]]\n",
      "\n",
      "Eigenvector 2: 5.55e-03\n",
      "\n",
      "Eigenvector 3: \n",
      "[[ 0.295 ]\n",
      " [ 0.2202]\n",
      " [ 0.2942]\n",
      " [-0.882 ]]\n",
      "\n",
      "Eigenvector 3: -3.61e-17\n",
      "\n",
      "Eigenvector 4: \n",
      "[[-0.2251]\n",
      " [ 0.4008]\n",
      " [ 0.4614]\n",
      " [-0.7588]]\n",
      "\n",
      "Eigenvector 4: 1.24e-16\n"
     ]
    }
   ],
   "source": [
    "eig_vals, eig_vecs = np.linalg.eig(np.linalg.inv(S_W).dot(S_B))\n",
    "\n",
    "for i in range(len(eig_vals)):\n",
    "    eigvec_sc = eig_vecs[:,i].reshape(4,1)\n",
    "    print('\\nEigenvector {}: \\n{}'.format(i+1, eigvec_sc.real))\n",
    "    print('\\nEigenvector {}: {:.2e}'.format(i+1, eig_vals[i].real))"
   ]
  },
  {
   "cell_type": "markdown",
   "metadata": {},
   "source": [
    "- ### Check the eigenvector-eigenvalue calculation\n",
    "\n",
    "## $S_W^{-1}S_Bw=\\lambda w$"
   ]
  },
  {
   "cell_type": "code",
   "execution_count": 103,
   "metadata": {},
   "outputs": [
    {
     "name": "stdout",
     "output_type": "stream",
     "text": [
      "ok\n"
     ]
    }
   ],
   "source": [
    "for i in range(len(eig_vals)):\n",
    "    eigv = eig_vecs[:,i].reshape(4,1)\n",
    "    np.testing.assert_array_almost_equal(np.linalg.inv(S_W).dot(S_B).dot(eigv),\n",
    "                                        eig_vals[i]*eigv,\n",
    "                                        decimal = 6, err_msg = '', verbose = True)\n",
    "print('ok')"
   ]
  },
  {
   "cell_type": "markdown",
   "metadata": {},
   "source": [
    "### 4) Step 4: Selecting Linear Discriminants for the new feature subspace (Sort & Pick)\n",
    "\n",
    "- ### Sorting the eigenvectors by decreasing eigenvalues"
   ]
  },
  {
   "cell_type": "code",
   "execution_count": 104,
   "metadata": {},
   "outputs": [
    {
     "name": "stdout",
     "output_type": "stream",
     "text": [
      "Eigenvalues in decreasing order:\n",
      "\n",
      "0.645439155995\n",
      "0.0055513372768\n",
      "1.23622593698e-16\n",
      "3.61345611689e-17\n"
     ]
    }
   ],
   "source": [
    "# Make a list of (eigenvalue, eigenvector) tuples\n",
    "eig_pairs = [(np.abs(eig_vals[i]),eig_vecs[:,i]) for i in range((len(eig_vals)))]\n",
    "\n",
    "# Sort the (eigenvalue, eigenvector) tuples from high to low\n",
    "eig_pairs = sorted(eig_pairs, key = lambda k:k[0], reverse = True)\n",
    "\n",
    "# Visually confirm that the list is the correcly sorted by decreasing eigenvalues\n",
    "\n",
    "print('Eigenvalues in decreasing order:\\n')\n",
    "for i in eig_pairs:\n",
    "    print(i[0])"
   ]
  },
  {
   "cell_type": "code",
   "execution_count": 105,
   "metadata": {},
   "outputs": [
    {
     "name": "stdout",
     "output_type": "stream",
     "text": [
      "Variance explained:\n",
      "\n",
      "eigenvalue 1:99.15%\n",
      "eigenvalue 2:0.85%\n",
      "eigenvalue 3:0.00%\n",
      "eigenvalue 4:0.00%\n"
     ]
    }
   ],
   "source": [
    "# Express the \"explained variance\" as percentage:\n",
    "print('Variance explained:\\n')\n",
    "eigv_sum = sum(eig_vals)\n",
    "for i,j in enumerate(eig_pairs):\n",
    "    print('eigenvalue {0:}:{1:.2%}'.format(i+1,(j[0]/eigv_sum).real))"
   ]
  },
  {
   "cell_type": "markdown",
   "metadata": {},
   "source": [
    "- ### Choosing k eigenvectors with the largest eigenvalues"
   ]
  },
  {
   "cell_type": "code",
   "execution_count": 106,
   "metadata": {},
   "outputs": [
    {
     "name": "stdout",
     "output_type": "stream",
     "text": [
      "Matrix w:\n",
      " [[ 0.2049 -0.009 ]\n",
      " [ 0.3871 -0.589 ]\n",
      " [-0.5465  0.2543]\n",
      " [-0.7138 -0.767 ]]\n"
     ]
    }
   ],
   "source": [
    "w = np.hstack((eig_pairs[0][1].reshape(4,1), eig_pairs[1][1].reshape(4,1)))\n",
    "print('Matrix w:\\n', w.real)"
   ]
  },
  {
   "cell_type": "markdown",
   "metadata": {},
   "source": [
    "### 5) Step 5: Transforming the samples onto the new subspace"
   ]
  },
  {
   "cell_type": "code",
   "execution_count": 107,
   "metadata": {},
   "outputs": [],
   "source": [
    "X_lda = X.dot(w)\n",
    "assert X_lda.shape == (150,2), \"The matrix is not 150x2 dimensional\""
   ]
  },
  {
   "cell_type": "code",
   "execution_count": 108,
   "metadata": {},
   "outputs": [],
   "source": [
    "from matplotlib import pyplot as plt"
   ]
  },
  {
   "cell_type": "code",
   "execution_count": 123,
   "metadata": {},
   "outputs": [],
   "source": [
    "def plot_step_lda():\n",
    "    \n",
    "    ax = plt.subplot(111)\n",
    "    for label, marker, color in zip(\n",
    "    range(1,4),('^','s','o'),('blue','red','green')):\n",
    "        plt.scatter(x = X_lda[:,0].real[y == label],\n",
    "                   y = X_lda[:,1].real[y == label],\n",
    "                   marker = marker,\n",
    "                   color = color,\n",
    "                   alpha = 0.5,\n",
    "                   label = label_dict[label] # label_dict = {1:'Iris-setoa', 2: 'Iris-versicolor', 3: 'Iris-virginica'}\n",
    "                   )\n",
    "    plt.xlabel('LDA1')\n",
    "    plt.ylabel('LDA2')\n",
    "    \n",
    "    leg = plt.legend(loc = 'upper right', fancybox = True)\n",
    "    leg.get_frame().set_alpha(0.5)\n",
    "    plt.title('LDA: Iris projection onto the first 2 linear discriminants')\n",
    "    \n",
    "    # hide axis ticks\n",
    "    plt.tick_params(axis = \"both\", which = \"both\", bottom = \"off\", top = \"off\",\n",
    "                  labelbottom = \"on\", left = \"off\", right = \"off\",labelleft = \"on\")\n",
    "    \n",
    "    \n",
    "    # remove axis spines\n",
    "    ax.spines[\"top\"].set_visible(False)\n",
    "    ax.spines[\"right\"].set_visible(False)\n",
    "    ax.spines[\"bottom\"].set_visible(False)\n",
    "    ax.spines[\"left\"].set_visible(False)\n",
    "    \n",
    "  \n",
    "    plt.grid()\n",
    "    plt.tight_layout\n",
    "    plt.show()"
   ]
  },
  {
   "cell_type": "code",
   "execution_count": 124,
   "metadata": {},
   "outputs": [
    {
     "data": {
      "image/png": "[encoded data removed]",
      "text/plain": [
       "<matplotlib.figure.Figure at 0x1a18fa2ba8>"
      ]
     },
     "metadata": {},
     "output_type": "display_data"
    }
   ],
   "source": [
    "plot_step_lda()"
   ]
  },
  {
   "cell_type": "markdown",
   "metadata": {},
   "source": [
    "# Appendix"
   ]
  },
  {
   "cell_type": "markdown",
   "metadata": {},
   "source": [
    "## A. How many Subset?\n",
    "\n",
    "- ### Set size: d, how many subset?\n",
    "\n",
    "## $\\binom dk= \\frac{d!}{k!(d-k)!}$\n",
    "\n",
    "## $\\sum_0\\binom dk = \\binom d0 +...+\\binom dn = 2^d$"
   ]
  },
  {
   "cell_type": "markdown",
   "metadata": {},
   "source": [
    "## B. Python Code"
   ]
  },
  {
   "cell_type": "markdown",
   "metadata": {},
   "source": [
    "### 1. [np.set_printoptions](https://docs.scipy.org/doc/numpy-1.13.0/reference/generated/numpy.set_printoptions.html)"
   ]
  },
  {
   "cell_type": "markdown",
   "metadata": {},
   "source": [
    "## C. Reference\n",
    "\n",
    "1. __[CS434a/541a: Pattern Recognition](http://www.csd.uwo.ca/~olga/Courses/CS434a_541a/Lecture8.pdf)__\n",
    "\n",
    "2. __[A Tutorial on Data Reduction Linear Discriminant Analysis (LDA)](https://www.lsv.uni-saarland.de/fileadmin/teaching/dsp/ss15/DSP2016/matdid437773.pdf)__\n",
    "\n",
    "3. __[L10: Linear discriminants analysis](http://research.cs.tamu.edu/prism/lectures/pr/pr_l10.pdf)__\n",
    "\n",
    "4. __[Linear Discriminant Analysis – Bit by Bit](http://sebastianraschka.com/Articles/2014_python_lda.html)__\n",
    "\n",
    "5. __[Dimensionality Reduction](http://courses.media.mit.edu/2010fall/mas622j/ProblemSets/slidesPCA.pdf)__\n",
    "\n",
    "6. __[PCA and LDA](http://www.svcl.ucsd.edu/courses/ece271B-F09/handouts/Dimensionality2.pdf)__\n",
    "\n",
    "7. __[Fisher Linear Discriminant Analysis](https://www.ics.uci.edu/~welling/teaching/273ASpring09/Fisher-LDA.pdf)__\n",
    "\n",
    "8. __Introduction to Machine Learning__\n",
    "\n",
    "9. __Matrix Cookbook__\n",
    "\n",
    "10. __[Linear regression of indicators,\n",
    "linear discriminant analysis](http://www.stat.cmu.edu/~ryantibs/datamining/)__"
   ]
  },
  {
   "cell_type": "code",
   "execution_count": null,
   "metadata": {},
   "outputs": [],
   "source": []
  }
 ],
 "metadata": {
  "kernelspec": {
   "display_name": "Python 3",
   "language": "python",
   "name": "python3"
  },
  "language_info": {
   "codemirror_mode": {
    "name": "ipython",
    "version": 3
   },
   "file_extension": ".py",
   "mimetype": "text/x-python",
   "name": "python",
   "nbconvert_exporter": "python",
   "pygments_lexer": "ipython3",
   "version": "3.6.2"
  }
 },
 "nbformat": 4,
 "nbformat_minor": 2
}
